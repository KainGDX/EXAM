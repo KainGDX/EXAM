{
  "cells": [
    {
      "cell_type": "markdown",
      "metadata": {
        "id": "view-in-github",
        "colab_type": "text"
      },
      "source": [
        "<a href=\"https://colab.research.google.com/github/KainGDX/EXAM/blob/main/%D0%BC%D0%B0%D1%81%D1%81%D0%B8%D0%B2%D1%8B.ipynb\" target=\"_parent\"><img src=\"https://colab.research.google.com/assets/colab-badge.svg\" alt=\"Open In Colab\"/></a>"
      ]
    },
    {
      "cell_type": "code",
      "source": [
        "import numpy as np\n",
        "import pandas as pd\n",
        "\n",
        "#массив NumPy\n",
        "np_array = np.array([100, 200, 300])\n",
        "print(\"NumPy массив:\")\n",
        "print(np_array)\n",
        "print(\"Элемент с индексом 1:\", np_array[1])  # Только по номеру\n",
        "\n",
        "print(\"\\n---\\n\")\n",
        "\n",
        "#Series в pandas с метками\n",
        "pd_series = pd.Series([100, 200, 300], index=['a', 'b', 'c'])\n",
        "print(\"pandas Series:\")\n",
        "print(pd_series)\n",
        "print(\"Элемент с меткой 'b':\", pd_series['b'])   #метка\n",
        "print(\"Элемент с индексом 1:\", pd_series.iloc[1])  # По номер"
      ],
      "metadata": {
        "colab": {
          "base_uri": "https://localhost:8080/"
        },
        "id": "VM5JK4_8wv4n",
        "outputId": "2140eb67-2d03-4414-f6b0-2b0f325464f2"
      },
      "execution_count": 9,
      "outputs": [
        {
          "output_type": "stream",
          "name": "stdout",
          "text": [
            "NumPy массив:\n",
            "[100 200 300]\n",
            "Элемент с индексом 1: 200\n",
            "\n",
            "---\n",
            "\n",
            "pandas Series:\n",
            "a    100\n",
            "b    200\n",
            "c    300\n",
            "dtype: int64\n",
            "Элемент с меткой 'b': 200\n",
            "Элемент с индексом 1: 200\n"
          ]
        }
      ]
    }
  ],
  "metadata": {
    "colab": {
      "name": "Добро пожаловать в Colab!",
      "toc_visible": true,
      "provenance": [],
      "include_colab_link": true
    },
    "kernelspec": {
      "display_name": "Python 3",
      "name": "python3"
    }
  },
  "nbformat": 4,
  "nbformat_minor": 0
}